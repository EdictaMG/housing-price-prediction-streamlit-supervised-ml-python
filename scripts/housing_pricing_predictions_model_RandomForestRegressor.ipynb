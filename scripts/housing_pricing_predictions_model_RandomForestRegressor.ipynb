{
 "cells": [
  {
   "cell_type": "markdown",
   "metadata": {
    "id": "xUXkTLhc7-HY"
   },
   "source": [
    "# **Streamlit App:** predicting housing prices"
   ]
  },
  {
   "cell_type": "markdown",
   "metadata": {
    "id": "u-GGi5XR8FAy"
   },
   "source": [
    "## Import libraries"
   ]
  },
  {
   "cell_type": "code",
   "execution_count": null,
   "metadata": {
    "id": "YWCEBB8Q7w49"
   },
   "outputs": [],
   "source": [
    "import pandas as pd\n",
    "\n",
    "from sklearn.model_selection import train_test_split, RandomizedSearchCV\n",
    "from sklearn.ensemble import RandomForestRegressor, GradientBoostingRegressor\n",
    "from sklearn.metrics import r2_score\n",
    "from sklearn.preprocessing import StandardScaler\n",
    "from sklearn.feature_selection import VarianceThreshold, RFECV\n",
    "from sklearn.pipeline import make_pipeline\n",
    "\n",
    "import pickle\n",
    "\n",
    "from sklearn.impute import SimpleImputer \n",
    "\n",
    "from sklearn import set_config # this and the next code line will make it so that whenever we transform data the output is a data frame\n",
    "set_config(transform_output='pandas') "
   ]
  },
  {
   "cell_type": "markdown",
   "metadata": {
    "id": "cSFkTkKC8LXN"
   },
   "source": [
    "## Reading data"
   ]
  },
  {
   "cell_type": "code",
   "execution_count": null,
   "metadata": {
    "id": "UOzHz0qh8R7V"
   },
   "outputs": [],
   "source": [
    "# reading\n",
    "import pandas as pd\n",
    "housing = pd.read_csv('[your_file_location]/housing-deployment-reg.csv') # replace [your_file_location] with actual file location"
   ]
  },
  {
   "cell_type": "code",
   "execution_count": null,
   "metadata": {
    "colab": {
     "base_uri": "https://localhost:8080/"
    },
    "executionInfo": {
     "elapsed": 18,
     "status": "ok",
     "timestamp": 1742948749719,
     "user": {
      "displayName": "Edicta Grullon",
      "userId": "06564017274082352377"
     },
     "user_tz": -60
    },
    "id": "pOfDoBtp7FiD",
    "outputId": "9be0011d-a61a-44b9-f5b5-b6b3333838c6"
   },
   "outputs": [
    {
     "data": {
      "text/plain": [
       "Index(['LotArea', 'TotalBsmtSF', 'BedroomAbvGr', 'GarageCars', 'SalePrice'], dtype='object')"
      ]
     },
     "execution_count": 41,
     "metadata": {},
     "output_type": "execute_result"
    }
   ],
   "source": [
    "housing.columns #seeing which column to \"pop\" out = SalePrice"
   ]
  },
  {
   "cell_type": "code",
   "execution_count": 43,
   "metadata": {
    "id": "TmaZkTw-BLSW"
   },
   "outputs": [],
   "source": [
    "#Dropping unncessary column(s)\n",
    "X = housing.drop(columns=\"SalePrice\").copy()"
   ]
  },
  {
   "cell_type": "markdown",
   "metadata": {
    "id": "uLVUIp_sBSPV"
   },
   "source": [
    "## Splitting data"
   ]
  },
  {
   "cell_type": "code",
   "execution_count": 46,
   "metadata": {
    "id": "nM48E50WBUx1"
   },
   "outputs": [],
   "source": [
    "# train test split\n",
    "y = housing[\"SalePrice\"]\n",
    "X_train, X_test, y_train, y_test = train_test_split(X, y, test_size=0.15, random_state=8)"
   ]
  },
  {
   "cell_type": "markdown",
   "metadata": {
    "id": "aFKbfrpv-aE3"
   },
   "source": [
    "## Explore data"
   ]
  },
  {
   "cell_type": "code",
   "execution_count": null,
   "metadata": {
    "colab": {
     "base_uri": "https://localhost:8080/"
    },
    "executionInfo": {
     "elapsed": 12,
     "status": "ok",
     "timestamp": 1742948749742,
     "user": {
      "displayName": "Edicta Grullon",
      "userId": "06564017274082352377"
     },
     "user_tz": -60
    },
    "id": "TD5OFH7C_K2g",
    "outputId": "c26ae01d-99d3-49a8-ea6a-973b92284da3"
   },
   "outputs": [
    {
     "name": "stdout",
     "output_type": "stream",
     "text": [
      "<class 'pandas.core.frame.DataFrame'>\n",
      "Index: 1241 entries, 1008 to 451\n",
      "Data columns (total 4 columns):\n",
      " #   Column        Non-Null Count  Dtype\n",
      "---  ------        --------------  -----\n",
      " 0   LotArea       1241 non-null   int64\n",
      " 1   TotalBsmtSF   1241 non-null   int64\n",
      " 2   BedroomAbvGr  1241 non-null   int64\n",
      " 3   GarageCars    1241 non-null   int64\n",
      "dtypes: int64(4)\n",
      "memory usage: 48.5 KB\n"
     ]
    }
   ],
   "source": [
    "X_train.info()"
   ]
  },
  {
   "cell_type": "markdown",
   "metadata": {
    "id": "Nugx6n0hRmyQ"
   },
   "source": [
    "# Full pipeline"
   ]
  },
  {
   "cell_type": "code",
   "execution_count": null,
   "metadata": {
    "id": "sha6zT1jLDT1"
   },
   "outputs": [
    {
     "name": "stdout",
     "output_type": "stream",
     "text": [
      "Best Parameters: {'variancethreshold__threshold': 0.0, 'standardscaler__with_mean': True, 'simpleimputer__strategy': 'median', 'randomforestregressor__n_estimators': 500, 'randomforestregressor__min_samples_split': 10, 'randomforestregressor__min_samples_leaf': 2, 'randomforestregressor__max_features': 'log2', 'randomforestregressor__max_depth': 20, 'randomforestregressor__bootstrap': True}\n"
     ]
    }
   ],
   "source": [
    "# pipeline\n",
    "pipe = make_pipeline(\n",
    "        SimpleImputer(),\n",
    "        StandardScaler(),\n",
    "        VarianceThreshold(0),\n",
    "        #RFECV(estimator=GradientBoostingRegressor()), #model proves to be better without \n",
    "        RandomForestRegressor()# model\n",
    ")\n",
    "\n",
    "# parameter grid for pipeline\n",
    "param_grid = {\n",
    "    'simpleimputer__strategy': [\"mean\", \"median\"],\n",
    "    'standardscaler__with_mean':[True, False],\n",
    "    'variancethreshold__threshold': [0.00, 0.01],\n",
    "    #'rfecv__min_features_to_select': range(1, 20), \n",
    "    #'gradientboostingregressor__n_estimators': range(1, 150, 5),\n",
    "    'randomforestregressor__n_estimators': [100, 300, 500],          \n",
    "    'randomforestregressor__max_depth': [10, 20, 30, None],          \n",
    "    'randomforestregressor__min_samples_split': [2, 5, 10],          \n",
    "    'randomforestregressor__min_samples_leaf': [1, 2, 4],            \n",
    "    'randomforestregressor__max_features': ['sqrt', 'log2', None],  \n",
    "    'randomforestregressor__bootstrap': [True, False],  \n",
    "}\n",
    "trained_pipe = RandomizedSearchCV(\n",
    "    pipe,\n",
    "    param_grid,\n",
    "    cv = 5)\n",
    "\n",
    "# fitting the best results from the grid search on training data\n",
    "trained_pipe.fit(X_train,y_train)\n",
    "\n",
    "# see what was the best model and parameters\n",
    "print(\"Best Parameters:\", trained_pipe.best_params_)\n"
   ]
  },
  {
   "cell_type": "markdown",
   "metadata": {
    "id": "xdQhzB37L1Vn"
   },
   "source": [
    "### Making predictions on test data"
   ]
  },
  {
   "cell_type": "code",
   "execution_count": 86,
   "metadata": {
    "colab": {
     "base_uri": "https://localhost:8080/"
    },
    "executionInfo": {
     "elapsed": 154,
     "status": "ok",
     "timestamp": 1742950310742,
     "user": {
      "displayName": "Edicta Grullon",
      "userId": "06564017274082352377"
     },
     "user_tz": -60
    },
    "id": "AKVFIib4MBq3",
    "outputId": "524cb1c3-1d06-4899-ec1b-0cb0a8f6fcef"
   },
   "outputs": [
    {
     "name": "stdout",
     "output_type": "stream",
     "text": [
      "0.7342738123212923\n"
     ]
    }
   ],
   "source": [
    "#make predictions\n",
    "y_pred = trained_pipe.predict(X_test)\n",
    "\n",
    "# test accuracy on the test set\n",
    "r2 = r2_score(y_test, y_pred)\n",
    "print(r2)"
   ]
  },
  {
   "cell_type": "markdown",
   "metadata": {
    "id": "xdQhzB37L1Vn"
   },
   "source": [
    "### Storing pipeline as \"Pickle\""
   ]
  },
  {
   "cell_type": "code",
   "execution_count": null,
   "metadata": {},
   "outputs": [],
   "source": [
    "# store the trained pipeline\n",
    "pickle.dump(trained_pipe,\n",
    "            open(file='[your_file_location]/trained_pipe_randomforestregressor.sav', # replace [your_file_location] with actual file location\n",
    "                 mode='wb'))"
   ]
  },
  {
   "cell_type": "markdown",
   "metadata": {},
   "source": [
    "### Testing the model locally"
   ]
  },
  {
   "cell_type": "code",
   "execution_count": null,
   "metadata": {},
   "outputs": [],
   "source": [
    "# house values to test with model and get predictions\n",
    "new_house = pd.DataFrame({\n",
    "    'LotArea':[9000],\n",
    "    'TotalBsmtSF':[1000],\n",
    "    'BedroomAbvGr':[5],\n",
    "    'GarageCars':[4]\n",
    "})\n",
    "\n",
    "# prediction\n",
    "loaded_model = pickle.load(open('[your_file_location]/trained_pipe_randomforestregressor.sav', 'rb')) # replace [your_file_location] with actual file location\n",
    "\n",
    "loaded_model.predict(new_house)"
   ]
  },
  {
   "cell_type": "markdown",
   "metadata": {},
   "source": [
    "### Installing Streamlit"
   ]
  },
  {
   "cell_type": "code",
   "execution_count": null,
   "metadata": {},
   "outputs": [],
   "source": [
    "#temporary installation, if necessary (can permanently install through terminal)\n",
    "!pip install streamlit"
   ]
  }
 ],
 "metadata": {
  "colab": {
   "authorship_tag": "ABX9TyN+VKx2fBcxkeKpV907Sobq",
   "mount_file_id": "1LDUFUjPBjnq1o23WRs0iyQ0hEsWfh2Ts",
   "provenance": []
  },
  "kernelspec": {
   "display_name": "Python 3 (ipykernel)",
   "language": "python",
   "name": "python3"
  },
  "language_info": {
   "codemirror_mode": {
    "name": "ipython",
    "version": 3
   },
   "file_extension": ".py",
   "mimetype": "text/x-python",
   "name": "python",
   "nbconvert_exporter": "python",
   "pygments_lexer": "ipython3",
   "version": "3.12.4"
  }
 },
 "nbformat": 4,
 "nbformat_minor": 4
}
